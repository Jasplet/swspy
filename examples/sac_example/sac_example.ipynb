{
 "cells": [
  {
   "cell_type": "markdown",
   "metadata": {},
   "source": [
    "# Example using SAC data"
   ]
  },
  {
   "cell_type": "markdown",
   "metadata": {},
   "source": [
    "This example shows how the code can be applied to undertake shear-wave splitting analysis using SAC data format.\n",
    "\n",
    "SAC data can be passed directly into SWSPy in isolation, so long as the SAC headers are populated with the neccessary information to perform the splitting measurement.\n",
    "\n",
    "The relevent SAC headers that have to be populated are:\n",
    "\n",
    "1. a - The arrival time of the phase to use (in secs after trace start time).\n",
    "\n",
    "2. baz - The back-azimuth from receiver to event (in deg from N).\n",
    "\n",
    "(Note: It assumes that rays arrive vertically, so doesn't currently read inclination for SAC data)\n",
    "\n",
    "\n",
    "\n",
    "The data in this examples is from: \n",
    "\n",
    "J Asplet, J Wookey, M Kendall. (2020) \"A potential post-perovskite province in D″ beneath the Eastern Pacific: evidence from new analysis of discrepant SKS–SKKS shear-wave splitting\". GJI.\n",
    "\n"
   ]
  },
  {
   "cell_type": "code",
   "execution_count": 1,
   "metadata": {},
   "outputs": [],
   "source": [
    "%load_ext autoreload\n",
    "%autoreload 2"
   ]
  },
  {
   "cell_type": "code",
   "execution_count": 2,
   "metadata": {},
   "outputs": [],
   "source": [
    "import swspy\n",
    "import obspy\n",
    "import os\n",
    "from obspy import UTCDateTime\n",
    "import numpy as np\n",
    "%matplotlib notebook\n",
    "import matplotlib.pyplot as plt\n"
   ]
  },
  {
   "cell_type": "markdown",
   "metadata": {},
   "source": [
    "### Specify parameters for processing:\n",
    "\n",
    "First one specifies all the relevent parameters for the splitting analysis. This changes various parameters from their default values to something more appropriate for a particular dataset.\n",
    "\n",
    "Note: For a detailed description of each parameter/attribute, do help(proc_many_events()) or read the documentation."
   ]
  },
  {
   "cell_type": "code",
   "execution_count": 3,
   "metadata": {},
   "outputs": [],
   "source": [
    "# Specify where data is:\n",
    "sac_dir = \"data\"\n",
    "outdir = \"outputs\"\n"
   ]
  },
  {
   "cell_type": "code",
   "execution_count": 4,
   "metadata": {},
   "outputs": [],
   "source": [
    "# Setup automation object and set key splitting data processing parameters:\n",
    "sws_proc_obj = swspy.automate.proc_many_events()\n",
    "sws_proc_obj.filter = True\n",
    "sws_proc_obj.filter_freq_min_max = [0.01, 0.5]\n",
    "sws_proc_obj.overall_win_start_pre_fast_S_pick = 4.0\n",
    "sws_proc_obj.win_S_pick_tolerance = 1.0\n",
    "sws_proc_obj.overall_win_start_post_fast_S_pick = 20.0\n",
    "sws_proc_obj.rotate_step_deg = 1.0\n",
    "sws_proc_obj.max_t_shift_s = 4.0\n",
    "sws_proc_obj.n_win = 10\n",
    "sws_proc_obj.downsample_factor = 1 #4\n",
    "sws_proc_obj.coord_system = \"ZNE\"\n",
    "sws_proc_obj.sws_method = \"EV\"\n",
    "sws_proc_obj.output_plots = True\n"
   ]
  },
  {
   "cell_type": "markdown",
   "metadata": {},
   "source": [
    "### Run the processing for event(s) in sac directory:\n",
    "\n",
    "After specifying the various parameters, one can run the analysis over multiple events."
   ]
  },
  {
   "cell_type": "code",
   "execution_count": 6,
   "metadata": {
    "scrolled": false
   },
   "outputs": [
    {
     "name": "stdout",
     "output_type": "stream",
     "text": [
      "Processing for event: 0/1\n",
      "Successfully retreived sac info.\n",
      "Saved sws result to: outputs/data/NEE_2005036_122318_SKKS_sws_result.csv\n",
      "Saved sws wfs to: outputs/data/NEE_2005036_122318_SKKS_wfs_*.mseed\n"
     ]
    },
    {
     "name": "stderr",
     "output_type": "stream",
     "text": [
      "/Users/eart0504/Documents/python/github_repositories/swspy/swspy/splitting/split.py:1907: UserWarning: constrained_layout not applied.  At least one axes collapsed to zero width or height.\n",
      "  plt.savefig(os.path.join(outdir, ''.join((self.event_uid, \"_\", station, \".png\"))), dpi=300)\n"
     ]
    },
    {
     "name": "stdout",
     "output_type": "stream",
     "text": [
      "Finished processing shear-wave splitting for data in: data\n",
      "Data saved to: outputs\n"
     ]
    }
   ],
   "source": [
    "sws_proc_obj.run_events_sac(sac_dir, outdir)"
   ]
  },
  {
   "cell_type": "code",
   "execution_count": null,
   "metadata": {},
   "outputs": [],
   "source": []
  }
 ],
 "metadata": {
  "kernelspec": {
   "display_name": "Python 3",
   "language": "python",
   "name": "python3"
  },
  "language_info": {
   "codemirror_mode": {
    "name": "ipython",
    "version": 3
   },
   "file_extension": ".py",
   "mimetype": "text/x-python",
   "name": "python",
   "nbconvert_exporter": "python",
   "pygments_lexer": "ipython3",
   "version": "3.7.6"
  }
 },
 "nbformat": 4,
 "nbformat_minor": 4
}
