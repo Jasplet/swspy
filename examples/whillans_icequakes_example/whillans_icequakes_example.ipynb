{
 "cells": [
  {
   "cell_type": "markdown",
   "metadata": {},
   "source": [
    "# Example of how to run automated multi-event manager "
   ]
  },
  {
   "cell_type": "markdown",
   "metadata": {},
   "source": [
    "This example shows how the code can be applied to undertake shear-wave splitting analysis for many events, with the data from and icequake example. \n",
    "\n",
    "\n",
    "Data is from Whillans Ice Stream, Antarctica."
   ]
  },
  {
   "cell_type": "code",
   "execution_count": 1,
   "metadata": {},
   "outputs": [],
   "source": [
    "%load_ext autoreload\n",
    "%autoreload 2"
   ]
  },
  {
   "cell_type": "code",
   "execution_count": 2,
   "metadata": {},
   "outputs": [],
   "source": [
    "# Import modules:\n",
    "import swspy\n",
    "import obspy\n",
    "from obspy import UTCDateTime\n",
    "import numpy as np\n",
    "%matplotlib notebook\n",
    "import matplotlib.pyplot as plt\n",
    "import glob \n",
    "import os, sys \n",
    "import pandas as pd"
   ]
  },
  {
   "cell_type": "markdown",
   "metadata": {},
   "source": [
    "### Specify parameters for processing:\n",
    "\n",
    "First one specifies all the relevent parameters for the splitting analysis. This changes various parameters from their default values to something more appropriate for a particular dataset.\n",
    "\n",
    "Note: For a detailed description of each parameter/attribute, do help(proc_many_events()) or read the documentation."
   ]
  },
  {
   "cell_type": "code",
   "execution_count": 3,
   "metadata": {},
   "outputs": [],
   "source": [
    "# Specify data management parameters:\n",
    "mseed_archive_dir = \"/Users/eart0504/data/mseed/Whillans/YD_network\"\n",
    "nlloc_dir = \"data/nonlinloc\"\n",
    "outdir = \"outputs\"\n"
   ]
  },
  {
   "cell_type": "code",
   "execution_count": 4,
   "metadata": {},
   "outputs": [],
   "source": [
    "# Setup automation object and set key splitting data processing parameters:\n",
    "sws_proc_obj = swspy.automate.proc_many_events()\n",
    "sws_proc_obj.filter = True\n",
    "sws_proc_obj.filter_freq_min_max = [1.0, 150]\n",
    "sws_proc_obj.overall_win_start_pre_fast_S_pick = 0.025\n",
    "sws_proc_obj.win_S_pick_tolerance = 0.05\n",
    "sws_proc_obj.overall_win_start_post_fast_S_pick = 0.05\n",
    "sws_proc_obj.rotate_step_deg = 1.0\n",
    "sws_proc_obj.max_t_shift_s = 0.04\n",
    "sws_proc_obj.n_win = 10\n",
    "sws_proc_obj.upsample_factor = 8\n",
    "sws_proc_obj.coord_system = \"ZNE\"\n",
    "sws_proc_obj.sws_method = \"EV_and_XC\"\n",
    "sws_proc_obj.output_plots = True\n"
   ]
  },
  {
   "cell_type": "markdown",
   "metadata": {},
   "source": [
    "### Run the processing for multiple events:\n",
    "\n",
    "After specifying the various parameters, one can run the analysis over multiple events."
   ]
  },
  {
   "cell_type": "code",
   "execution_count": 5,
   "metadata": {
    "scrolled": false
   },
   "outputs": [
    {
     "name": "stdout",
     "output_type": "stream",
     "text": [
      "Processing for event: 0/4\n"
     ]
    },
    {
     "name": "stderr",
     "output_type": "stream",
     "text": [
      "/Users/eart0504/opt/anaconda3/lib/python3.7/site-packages/obspy/signal/filter.py:67: UserWarning: Selected high corner frequency (150) of bandpass is at or above Nyquist (125.0). Applying a high-pass instead.\n",
      "  warnings.warn(msg)\n"
     ]
    },
    {
     "name": "stdout",
     "output_type": "stream",
     "text": [
      "No S phase pick for station: WG01 therefore skipping this station.\n",
      "No S phase pick for station: WG02 therefore skipping this station.\n",
      "No S phase pick for station: WG04 therefore skipping this station.\n",
      "No S phase pick for station: WG05 therefore skipping this station.\n",
      "Warning: NaN error in _calc_splitting_eig_val_method(). Skipping station: WS04\n",
      "Warning: NaN error in _calc_splitting_eig_val_method(). Skipping station: WS05\n",
      "Warning: NaN error in _calc_splitting_eig_val_method(). Skipping station: WS16\n",
      "Saved sws result to: outputs/data/20140120173246_sws_result.csv\n",
      "No S phase pick for station: WG01 therefore skipping this station.\n",
      "No S phase pick for station: WG02 therefore skipping this station.\n",
      "No S phase pick for station: WG04 therefore skipping this station.\n",
      "No S phase pick for station: WG05 therefore skipping this station.\n",
      "Warning: Empty stream therefore unable to write to file. Continueing.\n",
      "No S phase pick for station: WG01 therefore skipping this station.\n",
      "Skipping waveform correction for station: WG01\n",
      "No S phase pick for station: WG02 therefore skipping this station.\n",
      "Skipping waveform correction for station: WG02\n",
      "No S phase pick for station: WG04 therefore skipping this station.\n",
      "Skipping waveform correction for station: WG04\n",
      "No S phase pick for station: WG05 therefore skipping this station.\n",
      "Skipping waveform correction for station: WG05\n",
      "Skipping waveform correction for station: WS04\n",
      "Skipping waveform correction for station: WS05\n",
      "Skipping waveform correction for station: WS16\n",
      "Processing for event: 1/4\n"
     ]
    },
    {
     "name": "stderr",
     "output_type": "stream",
     "text": [
      "/Users/eart0504/opt/anaconda3/lib/python3.7/site-packages/obspy/signal/filter.py:67: UserWarning: Selected high corner frequency (150) of bandpass is at or above Nyquist (125.0). Applying a high-pass instead.\n",
      "  warnings.warn(msg)\n"
     ]
    },
    {
     "name": "stdout",
     "output_type": "stream",
     "text": [
      "No S phase pick for station: WG01 therefore skipping this station.\n",
      "No S phase pick for station: WG02 therefore skipping this station.\n",
      "No S phase pick for station: WG03 therefore skipping this station.\n",
      "No S phase pick for station: WG04 therefore skipping this station.\n",
      "No S phase pick for station: WG05 therefore skipping this station.\n",
      "No S phase pick for station: WG07 therefore skipping this station.\n",
      "No S phase pick for station: WG08 therefore skipping this station.\n",
      "Warning: NaN error in _calc_splitting_eig_val_method(). Skipping station: WS02\n",
      "Warning: NaN error in _calc_splitting_eig_val_method(). Skipping station: WS03\n",
      "Warning: Q and/or T components not found. Skipping this event-receiver observation.\n",
      "No S phase pick for station: WS06 therefore skipping this station.\n",
      "Warning: NaN error in _calc_splitting_eig_val_method(). Skipping station: WS08\n",
      "Saved sws result to: outputs/data/20140215011152_sws_result.csv\n",
      "No S phase pick for station: WG01 therefore skipping this station.\n",
      "No S phase pick for station: WG02 therefore skipping this station.\n",
      "No S phase pick for station: WG03 therefore skipping this station.\n",
      "No S phase pick for station: WG04 therefore skipping this station.\n",
      "No S phase pick for station: WG05 therefore skipping this station.\n",
      "No S phase pick for station: WG07 therefore skipping this station.\n",
      "No S phase pick for station: WG08 therefore skipping this station.\n",
      "No S phase pick for station: WS06 therefore skipping this station.\n",
      "Warning: Empty stream therefore unable to write to file. Continueing.\n",
      "No S phase pick for station: WG01 therefore skipping this station.\n",
      "Skipping waveform correction for station: WG01\n",
      "No S phase pick for station: WG02 therefore skipping this station.\n",
      "Skipping waveform correction for station: WG02\n",
      "No S phase pick for station: WG03 therefore skipping this station.\n",
      "Skipping waveform correction for station: WG03\n",
      "No S phase pick for station: WG04 therefore skipping this station.\n",
      "Skipping waveform correction for station: WG04\n",
      "No S phase pick for station: WG05 therefore skipping this station.\n",
      "Skipping waveform correction for station: WG05\n",
      "No S phase pick for station: WG07 therefore skipping this station.\n",
      "Skipping waveform correction for station: WG07\n",
      "No S phase pick for station: WG08 therefore skipping this station.\n",
      "Skipping waveform correction for station: WG08\n",
      "Skipping waveform correction for station: WS02\n",
      "Skipping waveform correction for station: WS03\n",
      "Skipping waveform correction for station: WS04\n",
      "No S phase pick for station: WS06 therefore skipping this station.\n",
      "Skipping waveform correction for station: WS06\n",
      "Skipping waveform correction for station: WS08\n",
      "Processing for event: 2/4\n",
      "No S phase pick for station: WG01 therefore skipping this station.\n",
      "No S phase pick for station: WG02 therefore skipping this station.\n",
      "No S phase pick for station: WG04 therefore skipping this station.\n",
      "No S phase pick for station: WG05 therefore skipping this station.\n",
      "Warning: NaN error in _calc_splitting_eig_val_method(). Skipping station: WS04\n",
      "Warning: NaN error in _calc_splitting_eig_val_method(). Skipping station: WS05\n",
      "Warning: NaN error in _calc_splitting_eig_val_method(). Skipping station: WS16\n",
      "Saved sws result to: outputs/data/20140120173139_sws_result.csv\n",
      "No S phase pick for station: WG01 therefore skipping this station.\n",
      "No S phase pick for station: WG02 therefore skipping this station.\n",
      "No S phase pick for station: WG04 therefore skipping this station.\n",
      "No S phase pick for station: WG05 therefore skipping this station.\n",
      "Warning: Empty stream therefore unable to write to file. Continueing.\n",
      "No S phase pick for station: WG01 therefore skipping this station.\n",
      "Skipping waveform correction for station: WG01\n",
      "No S phase pick for station: WG02 therefore skipping this station.\n",
      "Skipping waveform correction for station: WG02\n",
      "No S phase pick for station: WG04 therefore skipping this station.\n",
      "Skipping waveform correction for station: WG04\n",
      "No S phase pick for station: WG05 therefore skipping this station.\n",
      "Skipping waveform correction for station: WG05\n",
      "Skipping waveform correction for station: WS04\n",
      "Skipping waveform correction for station: WS05\n",
      "Skipping waveform correction for station: WS16\n",
      "Processing for event: 3/4\n",
      "No S phase pick for station: WG02 therefore skipping this station.\n",
      "No S phase pick for station: WG03 therefore skipping this station.\n",
      "No S phase pick for station: WG04 therefore skipping this station.\n",
      "No S phase pick for station: WG05 therefore skipping this station.\n",
      "No S phase pick for station: WG06 therefore skipping this station.\n",
      "No S phase pick for station: WG07 therefore skipping this station.\n",
      "No S phase pick for station: WG08 therefore skipping this station.\n",
      "Warning: NaN error in _calc_splitting_eig_val_method(). Skipping station: WS02\n",
      "Warning: NaN error in _calc_splitting_eig_val_method(). Skipping station: WS03\n",
      "Warning: Q and/or T components not found. Skipping this event-receiver observation.\n",
      "Warning: NaN error in _calc_splitting_eig_val_method(). Skipping station: WS05\n",
      "Warning: NaN error in _calc_splitting_eig_val_method(). Skipping station: WS07\n",
      "No S phase pick for station: WS08 therefore skipping this station.\n",
      "Warning: NaN error in _calc_splitting_eig_val_method(). Skipping station: WS15\n",
      "Saved sws result to: outputs/data/20140225121220_sws_result.csv\n",
      "No S phase pick for station: WG02 therefore skipping this station.\n",
      "No S phase pick for station: WG03 therefore skipping this station.\n",
      "No S phase pick for station: WG04 therefore skipping this station.\n",
      "No S phase pick for station: WG05 therefore skipping this station.\n",
      "No S phase pick for station: WG06 therefore skipping this station.\n",
      "No S phase pick for station: WG07 therefore skipping this station.\n",
      "No S phase pick for station: WG08 therefore skipping this station.\n",
      "No S phase pick for station: WS08 therefore skipping this station.\n",
      "Warning: Empty stream therefore unable to write to file. Continueing.\n",
      "No S phase pick for station: WG02 therefore skipping this station.\n",
      "Skipping waveform correction for station: WG02\n",
      "No S phase pick for station: WG03 therefore skipping this station.\n",
      "Skipping waveform correction for station: WG03\n",
      "No S phase pick for station: WG04 therefore skipping this station.\n",
      "Skipping waveform correction for station: WG04\n",
      "No S phase pick for station: WG05 therefore skipping this station.\n",
      "Skipping waveform correction for station: WG05\n",
      "No S phase pick for station: WG06 therefore skipping this station.\n",
      "Skipping waveform correction for station: WG06\n",
      "No S phase pick for station: WG07 therefore skipping this station.\n",
      "Skipping waveform correction for station: WG07\n",
      "No S phase pick for station: WG08 therefore skipping this station.\n",
      "Skipping waveform correction for station: WG08\n",
      "Skipping waveform correction for station: WS02\n",
      "Skipping waveform correction for station: WS03\n",
      "Skipping waveform correction for station: WS04\n",
      "Skipping waveform correction for station: WS05\n",
      "Skipping waveform correction for station: WS07\n",
      "No S phase pick for station: WS08 therefore skipping this station.\n",
      "Skipping waveform correction for station: WS08\n",
      "Skipping waveform correction for station: WS15\n",
      "Finished processing shear-wave splitting for data in: data/nonlinloc\n",
      "Data saved to: outputs\n"
     ]
    }
   ],
   "source": [
    "# And run events through automated processing:\n",
    "sws_proc_obj.run_events_from_nlloc(mseed_archive_dir, nlloc_dir, outdir)\n",
    "\n"
   ]
  },
  {
   "cell_type": "code",
   "execution_count": null,
   "metadata": {
    "scrolled": false
   },
   "outputs": [],
   "source": []
  },
  {
   "cell_type": "code",
   "execution_count": null,
   "metadata": {},
   "outputs": [],
   "source": []
  },
  {
   "cell_type": "code",
   "execution_count": null,
   "metadata": {},
   "outputs": [],
   "source": []
  },
  {
   "cell_type": "code",
   "execution_count": null,
   "metadata": {},
   "outputs": [],
   "source": []
  }
 ],
 "metadata": {
  "kernelspec": {
   "display_name": "Python 3",
   "language": "python",
   "name": "python3"
  },
  "language_info": {
   "codemirror_mode": {
    "name": "ipython",
    "version": 3
   },
   "file_extension": ".py",
   "mimetype": "text/x-python",
   "name": "python",
   "nbconvert_exporter": "python",
   "pygments_lexer": "ipython3",
   "version": "3.7.6"
  }
 },
 "nbformat": 4,
 "nbformat_minor": 4
}
