{
 "cells": [
  {
   "cell_type": "markdown",
   "metadata": {},
   "source": [
    "# Example of shear-wave splitting applied to a set of SKS splitting measurements"
   ]
  },
  {
   "cell_type": "markdown",
   "metadata": {},
   "source": [
    "This example shows how the code can be applied to undertake shear-wave splitting analysis on SKS data. \n",
    "\n",
    "\n",
    "The data is from: \n",
    "\n",
    "J Asplet, J Wookey, M Kendall. (2020) \"A potential post-perovskite province in D″ beneath the Eastern Pacific: evidence from new analysis of discrepant SKS–SKKS shear-wave splitting\". GJI."
   ]
  },
  {
   "cell_type": "code",
   "execution_count": 6,
   "metadata": {},
   "outputs": [
    {
     "name": "stdout",
     "output_type": "stream",
     "text": [
      "The autoreload extension is already loaded. To reload it, use:\n",
      "  %reload_ext autoreload\n"
     ]
    }
   ],
   "source": [
    "%load_ext autoreload\n",
    "%autoreload 2"
   ]
  },
  {
   "cell_type": "code",
   "execution_count": 7,
   "metadata": {},
   "outputs": [],
   "source": [
    "import swspy\n",
    "import obspy\n",
    "from obspy import UTCDateTime\n",
    "import numpy as np\n",
    "%matplotlib notebook\n",
    "import matplotlib.pyplot as plt\n",
    "import glob \n",
    "import os, sys \n",
    "import pandas as pd"
   ]
  },
  {
   "cell_type": "code",
   "execution_count": 8,
   "metadata": {},
   "outputs": [],
   "source": [
    "# Specify data management parameters:\n",
    "datadir = \"data\"\n",
    "outdir = \"outputs\"\n"
   ]
  },
  {
   "cell_type": "code",
   "execution_count": 9,
   "metadata": {},
   "outputs": [],
   "source": [
    "# Setup automation object and set key splitting data processing parameters:\n",
    "sws_proc_obj = swspy.automate.proc_many_events()\n",
    "sws_proc_obj.filter = True\n",
    "sws_proc_obj.filter_freq_min_max = [0.01, 0.5]\n",
    "sws_proc_obj.overall_win_start_pre_fast_S_pick = 4.0\n",
    "sws_proc_obj.win_S_pick_tolerance = 1.0\n",
    "sws_proc_obj.overall_win_start_post_fast_S_pick = 30.0\n",
    "sws_proc_obj.rotate_step_deg = 1.0\n",
    "sws_proc_obj.max_t_shift_s = 5.0\n",
    "sws_proc_obj.n_win = 10\n",
    "sws_proc_obj.downsample_factor = 1 #4\n",
    "sws_proc_obj.coord_system = \"ZNE\"\n",
    "sws_proc_obj.sws_method = \"EV_and_XC\"\n",
    "sws_proc_obj.output_plots = False\n"
   ]
  },
  {
   "cell_type": "code",
   "execution_count": null,
   "metadata": {
    "scrolled": false
   },
   "outputs": [
    {
     "name": "stdout",
     "output_type": "stream",
     "text": [
      "Processing for event UID: 116A_2006360_122621_SKKS (1/11)\n",
      "Saved sws result to: outputs/data/20061226125151_sws_result.csv\n",
      "Processing for event UID: COR_2008321_170232_SKS (2/11)\n",
      "Saved sws result to: outputs/data/20081116172713_sws_result.csv\n",
      "Processing for event UID: DAN_2003174_121231_ScS (3/11)\n",
      "Saved sws result to: outputs/data/20030623123100_sws_result.csv\n",
      "Processing for event UID: FACU_2009297_144044_SKS (4/11)\n",
      "Saved sws result to: outputs/data/20091024150503_sws_result.csv\n",
      "Processing for event UID: HUMO_2008321_170232_SKS (5/11)\n"
     ]
    }
   ],
   "source": [
    "# And run events through automated processing:\n",
    "S_pick_time_after_start_s = 10.0 # Time of S pick after start of SAC trace\n",
    "sws_proc_obj.run_events_sws_fmt(datadir, outdir, S_pick_time_after_start_s=S_pick_time_after_start_s)\n",
    "\n"
   ]
  },
  {
   "cell_type": "code",
   "execution_count": null,
   "metadata": {
    "scrolled": false
   },
   "outputs": [],
   "source": []
  },
  {
   "cell_type": "code",
   "execution_count": null,
   "metadata": {},
   "outputs": [],
   "source": []
  },
  {
   "cell_type": "code",
   "execution_count": null,
   "metadata": {},
   "outputs": [],
   "source": []
  },
  {
   "cell_type": "code",
   "execution_count": null,
   "metadata": {},
   "outputs": [],
   "source": []
  },
  {
   "cell_type": "code",
   "execution_count": null,
   "metadata": {},
   "outputs": [],
   "source": []
  }
 ],
 "metadata": {
  "kernelspec": {
   "display_name": "Python 3",
   "language": "python",
   "name": "python3"
  },
  "language_info": {
   "codemirror_mode": {
    "name": "ipython",
    "version": 3
   },
   "file_extension": ".py",
   "mimetype": "text/x-python",
   "name": "python",
   "nbconvert_exporter": "python",
   "pygments_lexer": "ipython3",
   "version": "3.7.6"
  }
 },
 "nbformat": 4,
 "nbformat_minor": 4
}
