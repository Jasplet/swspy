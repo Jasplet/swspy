{
 "cells": [
  {
   "cell_type": "markdown",
   "metadata": {},
   "source": [
    "# Example of shear-wave splitting applied to an icequake from Rutford Ice Stream, Antarctica"
   ]
  },
  {
   "cell_type": "code",
   "execution_count": 1,
   "metadata": {},
   "outputs": [],
   "source": [
    "%load_ext autoreload\n",
    "%autoreload 2"
   ]
  },
  {
   "cell_type": "code",
   "execution_count": 2,
   "metadata": {},
   "outputs": [],
   "source": [
    "import swspy\n",
    "import obspy\n",
    "from obspy import UTCDateTime\n",
    "import numpy as np\n",
    "%matplotlib notebook\n",
    "import matplotlib.pyplot as plt"
   ]
  },
  {
   "cell_type": "code",
   "execution_count": 3,
   "metadata": {},
   "outputs": [],
   "source": [
    "# Load data:\n",
    "archive_path = \"data/mseed\"\n",
    "archive_vs_file = \"archive\"\n",
    "nonlinloc_event_path = \"data/loc.Tom__RunNLLoc000.20090121.042009.grid0.loc.hyp\"\n",
    "\n",
    "starttime = UTCDateTime(\"20090121T042009.18523\") - 0.5\n",
    "endtime = UTCDateTime(\"20090121T042009.18523\") + 2.5\n",
    "load_wfs_obj = swspy.io.load_waveforms(archive_path, starttime=starttime, endtime=endtime)\n",
    "load_wfs_obj.filter = True\n",
    "load_wfs_obj.filter_freq_min_max = [1.0, 80.0]\n",
    "st = load_wfs_obj.read_waveform_data()"
   ]
  },
  {
   "cell_type": "code",
   "execution_count": 4,
   "metadata": {},
   "outputs": [],
   "source": [
    "# # Add noise to data:\n",
    "# for i in range(len(st)):\n",
    "#     st[i].data = st[i].data + 0.3*np.roll(st[i].data, int(np.random.uniform(-100, 100,1))) + 0.3*np.roll(st[i].data, int(np.random.uniform(-100, 100,1)))"
   ]
  },
  {
   "cell_type": "code",
   "execution_count": null,
   "metadata": {
    "scrolled": false
   },
   "outputs": [],
   "source": [
    "# Calculate splitting:\n",
    "splitting_event = swspy.splitting.create_splitting_object(st, nonlinloc_event_path=nonlinloc_event_path) #(st, nonlinloc_event_path) #(st.select(station=\"ST01\"), nonlinloc_event_path)\n",
    "splitting_event.overall_win_start_pre_fast_S_pick = 0.3 #0.1\n",
    "splitting_event.win_S_pick_tolerance = 0.1\n",
    "splitting_event.overall_win_start_post_fast_S_pick = 0.2 #0.2\n",
    "splitting_event.rotate_step_deg = 1.0 #2.5\n",
    "splitting_event.max_t_shift_s = 0.12\n",
    "splitting_event.n_win = 10 #5 #10\n",
    "# splitting_event.perform_sp\n",
    "splitting_event.perform_sws_analysis(coord_system=\"ZNE\", sws_method=\"EV_and_XC\") #(coord_system=\"LQT\") #(coord_system=\"ZNE\")\n"
   ]
  },
  {
   "cell_type": "code",
   "execution_count": null,
   "metadata": {
    "scrolled": false
   },
   "outputs": [],
   "source": [
    "splitting_event.plot()"
   ]
  },
  {
   "cell_type": "code",
   "execution_count": 7,
   "metadata": {},
   "outputs": [
    {
     "name": "stdout",
     "output_type": "stream",
     "text": [
      "Saved sws result to: /Users/eart0504/Documents/python/github_repositories/swspy/examples/icequake_example/20090121042009_sws_result.csv\n"
     ]
    }
   ],
   "source": [
    "# And save result to file:\n",
    "splitting_event.save_result()\n"
   ]
  },
  {
   "cell_type": "code",
   "execution_count": null,
   "metadata": {},
   "outputs": [],
   "source": []
  },
  {
   "cell_type": "code",
   "execution_count": null,
   "metadata": {},
   "outputs": [],
   "source": []
  }
 ],
 "metadata": {
  "kernelspec": {
   "display_name": "Python 3",
   "language": "python",
   "name": "python3"
  },
  "language_info": {
   "codemirror_mode": {
    "name": "ipython",
    "version": 3
   },
   "file_extension": ".py",
   "mimetype": "text/x-python",
   "name": "python",
   "nbconvert_exporter": "python",
   "pygments_lexer": "ipython3",
   "version": "3.7.6"
  }
 },
 "nbformat": 4,
 "nbformat_minor": 4
}
