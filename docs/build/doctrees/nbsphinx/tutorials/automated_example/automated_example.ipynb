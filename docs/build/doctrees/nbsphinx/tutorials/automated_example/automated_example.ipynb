{
 "cells": [
  {
   "cell_type": "markdown",
   "metadata": {},
   "source": [
    "# Example of how to run automated multi-event manager "
   ]
  },
  {
   "cell_type": "markdown",
   "metadata": {},
   "source": [
    "This example shows how the code can be applied to undertake shear-wave splitting analysis for many events, with the data from the SKS example. \n",
    "\n",
    "Here, the S-picks are defined as 10 s into the sac data for each event.\n",
    "\n",
    "Data is from: \n",
    "\n",
    "J Asplet, J Wookey, M Kendall. (2020) \"A potential post-perovskite province in D″ beneath the Eastern Pacific: evidence from new analysis of discrepant SKS–SKKS shear-wave splitting\". GJI."
   ]
  },
  {
   "cell_type": "code",
   "execution_count": 1,
   "metadata": {},
   "outputs": [],
   "source": [
    "%load_ext autoreload\n",
    "%autoreload 2"
   ]
  },
  {
   "cell_type": "code",
   "execution_count": 2,
   "metadata": {},
   "outputs": [],
   "source": [
    "# Import modules:\n",
    "import swspy\n",
    "import obspy\n",
    "from obspy import UTCDateTime\n",
    "import numpy as np\n",
    "%matplotlib notebook\n",
    "import matplotlib.pyplot as plt\n",
    "import glob \n",
    "import os, sys \n",
    "import pandas as pd"
   ]
  },
  {
   "cell_type": "markdown",
   "metadata": {},
   "source": [
    "### Specify parameters for processing:\n",
    "\n",
    "First one specifies all the relevent parameters for the splitting analysis. This changes various parameters from their default values to something more appropriate for a particular dataset.\n",
    "\n",
    "Note: For a detailed description of each parameter/attribute, do help(proc_many_events()) or read the documentation."
   ]
  },
  {
   "cell_type": "code",
   "execution_count": 3,
   "metadata": {},
   "outputs": [],
   "source": [
    "# Specify data management parameters:\n",
    "datadir = \"data\"\n",
    "outdir = \"outputs\"\n"
   ]
  },
  {
   "cell_type": "code",
   "execution_count": 4,
   "metadata": {},
   "outputs": [],
   "source": [
    "# Setup automation object and set key splitting data processing parameters:\n",
    "sws_proc_obj = swspy.automate.proc_many_events()\n",
    "sws_proc_obj.filter = True\n",
    "sws_proc_obj.filter_freq_min_max = [0.01, 0.5]\n",
    "sws_proc_obj.overall_win_start_pre_fast_S_pick = 4.0\n",
    "sws_proc_obj.win_S_pick_tolerance = 1.0\n",
    "sws_proc_obj.overall_win_start_post_fast_S_pick = 30.0\n",
    "sws_proc_obj.rotate_step_deg = 1.0\n",
    "sws_proc_obj.max_t_shift_s = 5.0\n",
    "sws_proc_obj.n_win = 10\n",
    "sws_proc_obj.downsample_factor = 1 #4\n",
    "sws_proc_obj.coord_system = \"ZNE\"\n",
    "sws_proc_obj.sws_method = \"EV\"\n",
    "sws_proc_obj.output_plots = False\n"
   ]
  },
  {
   "cell_type": "markdown",
   "metadata": {},
   "source": [
    "### Run the processing for multiple events:\n",
    "\n",
    "After specifying the various parameters, one can run the analysis over multiple events."
   ]
  },
  {
   "cell_type": "code",
   "execution_count": 5,
   "metadata": {
    "scrolled": false
   },
   "outputs": [
    {
     "name": "stdout",
     "output_type": "stream",
     "text": [
      "Processing for event UID: 116A_2006360_122621_SKKS (1/11)\n",
      "Saved sws result to: outputs/data/20061226125151_sws_result.csv\n",
      "Saved sws wfs to: outputs/data/20061226125151_wfs_*.mseed\n",
      "Processing for event UID: COR_2008321_170232_SKS (2/11)\n",
      "Saved sws result to: outputs/data/20081116172713_sws_result.csv\n",
      "Saved sws wfs to: outputs/data/20081116172713_wfs_*.mseed\n",
      "Processing for event UID: DAN_2003174_121231_ScS (3/11)\n",
      "Saved sws result to: outputs/data/20030623123100_sws_result.csv\n",
      "Saved sws wfs to: outputs/data/20030623123100_wfs_*.mseed\n",
      "Processing for event UID: FACU_2009297_144044_SKS (4/11)\n",
      "Saved sws result to: outputs/data/20091024150503_sws_result.csv\n",
      "Saved sws wfs to: outputs/data/20091024150503_wfs_*.mseed\n",
      "Processing for event UID: HUMO_2008321_170232_SKS (5/11)\n",
      "Saved sws result to: outputs/data/20081116172718_sws_result.csv\n",
      "Saved sws wfs to: outputs/data/20081116172718_wfs_*.mseed\n",
      "Processing for event UID: IRON_2009297_144044_SKS (6/11)\n",
      "Saved sws result to: outputs/data/20091024150513_sws_result.csv\n",
      "Saved sws wfs to: outputs/data/20091024150513_wfs_*.mseed\n",
      "Processing for event UID: K20A_2009003_223342_SKKS (7/11)\n",
      "Saved sws result to: outputs/data/20090103225943_sws_result.csv\n",
      "Saved sws wfs to: outputs/data/20090103225943_wfs_*.mseed\n",
      "Processing for event UID: L07A_2007256_094844_SKS (8/11)\n",
      "Saved sws result to: outputs/data/20070913101323_sws_result.csv\n",
      "Saved sws wfs to: outputs/data/20070913101323_wfs_*.mseed\n",
      "Processing for event UID: L24A_2009003_194355_SKKS (9/11)\n",
      "Saved sws result to: outputs/data/20090103201022_sws_result.csv\n",
      "Saved sws wfs to: outputs/data/20090103201022_wfs_*.mseed\n",
      "Processing for event UID: NE81_2006360_122621_SKKS (10/11)\n",
      "Saved sws result to: outputs/data/20061226125216_sws_result.csv\n",
      "Saved sws wfs to: outputs/data/20061226125216_wfs_*.mseed\n",
      "Processing for event UID: RDM_2003174_121231_ScS (11/11)\n",
      "Saved sws result to: outputs/data/20030623123110_sws_result.csv\n",
      "Saved sws wfs to: outputs/data/20030623123110_wfs_*.mseed\n",
      "Finished processing shear-wave splitting for data in: data\n",
      "Data saved to: outputs\n"
     ]
    }
   ],
   "source": [
    "# And run events through automated processing:\n",
    "S_pick_time_after_start_s = 10.0 # Time of S pick after start of SAC trace\n",
    "sws_proc_obj.run_events_sws_fmt(datadir, outdir, S_pick_time_after_start_s=S_pick_time_after_start_s)\n",
    "\n"
   ]
  },
  {
   "cell_type": "code",
   "execution_count": null,
   "metadata": {
    "scrolled": false
   },
   "outputs": [],
   "source": []
  }
 ],
 "metadata": {
  "kernelspec": {
   "display_name": "Python 3",
   "language": "python",
   "name": "python3"
  },
  "language_info": {
   "codemirror_mode": {
    "name": "ipython",
    "version": 3
   },
   "file_extension": ".py",
   "mimetype": "text/x-python",
   "name": "python",
   "nbconvert_exporter": "python",
   "pygments_lexer": "ipython3",
   "version": "3.7.6"
  }
 },
 "nbformat": 4,
 "nbformat_minor": 4
}
